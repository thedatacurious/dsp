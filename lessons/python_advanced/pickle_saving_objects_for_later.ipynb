{
 "cells": [
  {
   "cell_type": "code",
   "execution_count": 1,
   "metadata": {},
   "outputs": [
    {
     "name": "stdout",
     "output_type": "stream",
     "text": [
      "Python Version: 3.7.3 (default, Aug 20 2019, 17:04:43) \n",
      "[GCC 8.3.0] \n",
      "\n"
     ]
    }
   ],
   "source": [
    "import sys\n",
    "print(\"Python Version:\", sys.version, '\\n')"
   ]
  },
  {
   "cell_type": "markdown",
   "metadata": {},
   "source": [
    "# Pickle: Saving Objects for Later"
   ]
  },
  {
   "cell_type": "markdown",
   "metadata": {},
   "source": [
    "Often in data science, we'll create some model or some version of our data and want to use it later. We have many options - we can save the coefficients, or save the data to csv, or...\n",
    "\n",
    "Actually, we don't have that many options. \n",
    "\n",
    "One way to overcome that is to save the python object to a file as a serialized object. That means we convert the entire object to a bunch of bytes, save those bytes into a file, and then have the ability to unpack those bytes back into their original format later. \n",
    "\n",
    "This is done by a module called `pickle`. Let's see it in action."
   ]
  },
  {
   "cell_type": "code",
   "execution_count": 2,
   "metadata": {},
   "outputs": [],
   "source": [
    "import pickle\n",
    "import random\n",
    "\n",
    "lots_of_noise = {\n",
    "    'CA': [random.randint(0,65) for _ in range(100)],\n",
    "    'IL': [random.randint(0,65) for _ in range(50)],\n",
    "    'NY': [random.randint(0,65) for _ in range(90)],\n",
    "    'WA': [random.randint(0,65) for _ in range(33)]\n",
    "}"
   ]
  },
  {
   "cell_type": "code",
   "execution_count": 3,
   "metadata": {},
   "outputs": [
    {
     "name": "stdout",
     "output_type": "stream",
     "text": [
      "{'CA': [14, 57, 17, 17, 52, 38, 32, 31, 26, 25, 19, 1, 20, 4, 26, 38, 54, 36, 55, 46, 32, 22, 26, 62, 2, 4, 11, 7, 65, 42, 27, 52, 35, 34, 58, 62, 51, 12, 36, 44, 21, 25, 7, 33, 3, 9, 22, 14, 3, 14, 63, 61, 32, 41, 19, 15, 47, 60, 62, 18, 22, 64, 42, 47, 54, 11, 62, 41, 16, 37, 49, 49, 36, 57, 45, 48, 12, 49, 49, 18, 39, 53, 55, 43, 26, 57, 3, 24, 42, 14, 2, 11, 47, 28, 1, 57, 12, 33, 52, 34], 'IL': [4, 61, 4, 6, 4, 37, 62, 37, 23, 5, 8, 9, 50, 5, 38, 37, 5, 7, 14, 17, 20, 63, 33, 15, 43, 56, 54, 63, 14, 9, 11, 55, 31, 6, 41, 60, 22, 7, 51, 43, 23, 62, 25, 0, 8, 28, 7, 55, 4, 57], 'NY': [16, 11, 16, 56, 32, 17, 27, 37, 45, 53, 17, 16, 3, 5, 5, 38, 65, 17, 1, 52, 52, 6, 51, 22, 64, 16, 14, 14, 4, 15, 28, 36, 64, 13, 62, 36, 16, 45, 15, 51, 19, 35, 50, 8, 34, 22, 64, 44, 17, 5, 3, 1, 41, 24, 26, 10, 48, 18, 55, 48, 44, 59, 54, 36, 26, 18, 42, 11, 22, 13, 39, 45, 50, 1, 39, 55, 43, 23, 34, 32, 32, 52, 20, 24, 61, 58, 14, 27, 42, 23], 'WA': [58, 65, 46, 29, 25, 36, 27, 28, 37, 24, 64, 27, 3, 42, 21, 51, 24, 29, 4, 26, 39, 14, 28, 0, 0, 29, 53, 32, 58, 13, 19, 12, 59]}\n"
     ]
    }
   ],
   "source": [
    "print(lots_of_noise)"
   ]
  },
  {
   "cell_type": "code",
   "execution_count": 4,
   "metadata": {},
   "outputs": [
    {
     "name": "stdout",
     "output_type": "stream",
     "text": [
      "Variable        Type      Data/Info\n",
      "-----------------------------------\n",
      "lots_of_noise   dict      n=4\n",
      "pickle          module    <module 'pickle' from '/u<...>lib/python3.7/pickle.py'>\n",
      "random          module    <module 'random' from '/u<...>lib/python3.7/random.py'>\n",
      "sys             module    <module 'sys' (built-in)>\n"
     ]
    }
   ],
   "source": [
    "whos"
   ]
  },
  {
   "cell_type": "markdown",
   "metadata": {},
   "source": [
    "We can see in this `whos` command that the object `lots_of_noise` exists and is a `dict` with 4 keys. Nice. Now let's look at our file system and verify that there isn't a file called `noise.pickle`."
   ]
  },
  {
   "cell_type": "code",
   "execution_count": 9,
   "metadata": {},
   "outputs": [
    {
     "name": "stdout",
     "output_type": "stream",
     "text": [
      "advanced_python_datatypes.ipynb  my_dataframe.pickle\n",
      "deep_and_shallow_copy.ipynb\t noise.pickle\n",
      "deep_copy_demo\t\t\t pickle_saving_objects_for_later.ipynb\n",
      "instructor_guide_week1_day4.md\t readme.md\n"
     ]
    }
   ],
   "source": [
    "!ls"
   ]
  },
  {
   "cell_type": "markdown",
   "metadata": {},
   "source": [
    "Okay, now we're ready to create a file and write the bytes to it. To do this with `pickle`, we use python's read-write streamer `open` and create a writable-binary (`wb`) file. We'll then use `pickle.dump` to put an object into that file as a string of bytes."
   ]
  },
  {
   "cell_type": "code",
   "execution_count": 6,
   "metadata": {},
   "outputs": [],
   "source": [
    "with open('noise.pickle', 'wb') as to_write:\n",
    "    pickle.dump(lots_of_noise, to_write)"
   ]
  },
  {
   "cell_type": "code",
   "execution_count": 7,
   "metadata": {},
   "outputs": [
    {
     "name": "stdout",
     "output_type": "stream",
     "text": [
      "advanced_python_datatypes.ipynb  my_dataframe.pickle\n",
      "deep_and_shallow_copy.ipynb\t noise.pickle\n",
      "deep_copy_demo\t\t\t pickle_saving_objects_for_later.ipynb\n",
      "instructor_guide_week1_day4.md\t readme.md\n"
     ]
    }
   ],
   "source": [
    "!ls"
   ]
  },
  {
   "cell_type": "markdown",
   "metadata": {},
   "source": [
    "Now let's delete `lots_of_noise` and prove to ourselves it doesn't exist in Python's memory anymore."
   ]
  },
  {
   "cell_type": "code",
   "execution_count": 10,
   "metadata": {},
   "outputs": [],
   "source": [
    "del lots_of_noise"
   ]
  },
  {
   "cell_type": "code",
   "execution_count": 11,
   "metadata": {},
   "outputs": [
    {
     "name": "stdout",
     "output_type": "stream",
     "text": [
      "Variable   Type              Data/Info\n",
      "--------------------------------------\n",
      "pickle     module            <module 'pickle' from '/u<...>lib/python3.7/pickle.py'>\n",
      "random     module            <module 'random' from '/u<...>lib/python3.7/random.py'>\n",
      "sys        module            <module 'sys' (built-in)>\n",
      "to_write   BufferedWriter    <_io.BufferedWriter name='noise.pickle'>\n"
     ]
    }
   ],
   "source": [
    "whos"
   ]
  },
  {
   "cell_type": "code",
   "execution_count": 12,
   "metadata": {},
   "outputs": [
    {
     "ename": "NameError",
     "evalue": "name 'lots_of_noise' is not defined",
     "output_type": "error",
     "traceback": [
      "\u001b[0;31m---------------------------------------------------------------------------\u001b[0m",
      "\u001b[0;31mNameError\u001b[0m                                 Traceback (most recent call last)",
      "\u001b[0;32m<ipython-input-12-69f22b4d5ca8>\u001b[0m in \u001b[0;36m<module>\u001b[0;34m()\u001b[0m\n\u001b[0;32m----> 1\u001b[0;31m \u001b[0mprint\u001b[0m\u001b[0;34m(\u001b[0m\u001b[0mlots_of_noise\u001b[0m\u001b[0;34m)\u001b[0m\u001b[0;34m\u001b[0m\u001b[0;34m\u001b[0m\u001b[0m\n\u001b[0m",
      "\u001b[0;31mNameError\u001b[0m: name 'lots_of_noise' is not defined"
     ]
    }
   ],
   "source": [
    "print(lots_of_noise)"
   ]
  },
  {
   "cell_type": "markdown",
   "metadata": {},
   "source": [
    "Lovely. It's dead forever. Or is it?\n",
    "\n",
    "Let's open that `noise.pickle` file with read-binary (`rb`) mode. Then we'll ask pickle to retrieve the file with `pickle.load` and store it back in a variable."
   ]
  },
  {
   "cell_type": "code",
   "execution_count": 15,
   "metadata": {},
   "outputs": [],
   "source": [
    "with open('noise.pickle','rb') as read_file:\n",
    "    new_noise = pickle.load(read_file)"
   ]
  },
  {
   "cell_type": "code",
   "execution_count": 14,
   "metadata": {},
   "outputs": [
    {
     "name": "stdout",
     "output_type": "stream",
     "text": [
      "{'CA': [14, 57, 17, 17, 52, 38, 32, 31, 26, 25, 19, 1, 20, 4, 26, 38, 54, 36, 55, 46, 32, 22, 26, 62, 2, 4, 11, 7, 65, 42, 27, 52, 35, 34, 58, 62, 51, 12, 36, 44, 21, 25, 7, 33, 3, 9, 22, 14, 3, 14, 63, 61, 32, 41, 19, 15, 47, 60, 62, 18, 22, 64, 42, 47, 54, 11, 62, 41, 16, 37, 49, 49, 36, 57, 45, 48, 12, 49, 49, 18, 39, 53, 55, 43, 26, 57, 3, 24, 42, 14, 2, 11, 47, 28, 1, 57, 12, 33, 52, 34], 'IL': [4, 61, 4, 6, 4, 37, 62, 37, 23, 5, 8, 9, 50, 5, 38, 37, 5, 7, 14, 17, 20, 63, 33, 15, 43, 56, 54, 63, 14, 9, 11, 55, 31, 6, 41, 60, 22, 7, 51, 43, 23, 62, 25, 0, 8, 28, 7, 55, 4, 57], 'NY': [16, 11, 16, 56, 32, 17, 27, 37, 45, 53, 17, 16, 3, 5, 5, 38, 65, 17, 1, 52, 52, 6, 51, 22, 64, 16, 14, 14, 4, 15, 28, 36, 64, 13, 62, 36, 16, 45, 15, 51, 19, 35, 50, 8, 34, 22, 64, 44, 17, 5, 3, 1, 41, 24, 26, 10, 48, 18, 55, 48, 44, 59, 54, 36, 26, 18, 42, 11, 22, 13, 39, 45, 50, 1, 39, 55, 43, 23, 34, 32, 32, 52, 20, 24, 61, 58, 14, 27, 42, 23], 'WA': [58, 65, 46, 29, 25, 36, 27, 28, 37, 24, 64, 27, 3, 42, 21, 51, 24, 29, 4, 26, 39, 14, 28, 0, 0, 29, 53, 32, 58, 13, 19, 12, 59]}\n"
     ]
    }
   ],
   "source": [
    "print(new_noise)"
   ]
  },
  {
   "cell_type": "code",
   "execution_count": null,
   "metadata": {},
   "outputs": [],
   "source": [
    "whos"
   ]
  },
  {
   "cell_type": "markdown",
   "metadata": {},
   "source": [
    "Random noise lives! We retrieved the entire structure from file. Nice."
   ]
  },
  {
   "cell_type": "markdown",
   "metadata": {},
   "source": [
    "### Okay, but I don't use dictionaries... I use pandas."
   ]
  },
  {
   "cell_type": "code",
   "execution_count": 21,
   "metadata": {},
   "outputs": [
    {
     "data": {
      "text/html": [
       "<div>\n",
       "<style scoped>\n",
       "    .dataframe tbody tr th:only-of-type {\n",
       "        vertical-align: middle;\n",
       "    }\n",
       "\n",
       "    .dataframe tbody tr th {\n",
       "        vertical-align: top;\n",
       "    }\n",
       "\n",
       "    .dataframe thead th {\n",
       "        text-align: right;\n",
       "    }\n",
       "</style>\n",
       "<table border=\"1\" class=\"dataframe\">\n",
       "  <thead>\n",
       "    <tr style=\"text-align: right;\">\n",
       "      <th></th>\n",
       "      <th>Yay</th>\n",
       "      <th>specific</th>\n",
       "      <th>column</th>\n",
       "      <th>names</th>\n",
       "    </tr>\n",
       "  </thead>\n",
       "  <tbody>\n",
       "    <tr>\n",
       "      <td>0</td>\n",
       "      <td>8.127580</td>\n",
       "      <td>7.335177</td>\n",
       "      <td>5.520845</td>\n",
       "      <td>8.243294</td>\n",
       "    </tr>\n",
       "    <tr>\n",
       "      <td>1</td>\n",
       "      <td>-3.876198</td>\n",
       "      <td>0.445566</td>\n",
       "      <td>-3.411263</td>\n",
       "      <td>-5.258913</td>\n",
       "    </tr>\n",
       "    <tr>\n",
       "      <td>2</td>\n",
       "      <td>-7.805019</td>\n",
       "      <td>-4.072921</td>\n",
       "      <td>-2.778066</td>\n",
       "      <td>-9.353776</td>\n",
       "    </tr>\n",
       "    <tr>\n",
       "      <td>3</td>\n",
       "      <td>-2.226176</td>\n",
       "      <td>0.352102</td>\n",
       "      <td>8.526296</td>\n",
       "      <td>0.369076</td>\n",
       "    </tr>\n",
       "    <tr>\n",
       "      <td>4</td>\n",
       "      <td>-4.584189</td>\n",
       "      <td>7.777025</td>\n",
       "      <td>5.119103</td>\n",
       "      <td>-0.996769</td>\n",
       "    </tr>\n",
       "  </tbody>\n",
       "</table>\n",
       "</div>"
      ],
      "text/plain": [
       "        Yay  specific    column     names\n",
       "0  8.127580  7.335177  5.520845  8.243294\n",
       "1 -3.876198  0.445566 -3.411263 -5.258913\n",
       "2 -7.805019 -4.072921 -2.778066 -9.353776\n",
       "3 -2.226176  0.352102  8.526296  0.369076\n",
       "4 -4.584189  7.777025  5.119103 -0.996769"
      ]
     },
     "execution_count": 21,
     "metadata": {},
     "output_type": "execute_result"
    }
   ],
   "source": [
    "import pandas as pd\n",
    "import numpy as np\n",
    "\n",
    "df = pd.DataFrame(np.random.uniform(-10,10, size=(100,4)), columns=['Yay','specific','column','names'])\n",
    "df.head(5)"
   ]
  },
  {
   "cell_type": "code",
   "execution_count": 22,
   "metadata": {},
   "outputs": [],
   "source": [
    "# with open('file_name', 'wb') as to_write \n",
    "# using with ensures the file gets closed \n",
    "# after the block of code has been executed\n",
    "# In the 2nd arg, 'w' means to write and 'b' refers to binary format\n",
    "# When used with open, 'w' creates a file if it \n",
    "\n",
    "with open('my_dataframe.pickle', 'wb') as to_write:\n",
    "    pickle.dump(df, to_write)"
   ]
  },
  {
   "cell_type": "code",
   "execution_count": 18,
   "metadata": {},
   "outputs": [
    {
     "ename": "NameError",
     "evalue": "name 'df' is not defined",
     "output_type": "error",
     "traceback": [
      "\u001b[0;31m---------------------------------------------------------------------------\u001b[0m",
      "\u001b[0;31mNameError\u001b[0m                                 Traceback (most recent call last)",
      "\u001b[0;32m<ipython-input-18-3975f6306adf>\u001b[0m in \u001b[0;36m<module>\u001b[0;34m()\u001b[0m\n\u001b[1;32m      1\u001b[0m \u001b[0;32mdel\u001b[0m \u001b[0mdf\u001b[0m\u001b[0;34m\u001b[0m\u001b[0;34m\u001b[0m\u001b[0m\n\u001b[1;32m      2\u001b[0m \u001b[0;34m\u001b[0m\u001b[0m\n\u001b[0;32m----> 3\u001b[0;31m \u001b[0mdf\u001b[0m\u001b[0;34m.\u001b[0m\u001b[0mhead\u001b[0m\u001b[0;34m(\u001b[0m\u001b[0;36m5\u001b[0m\u001b[0;34m)\u001b[0m\u001b[0;34m\u001b[0m\u001b[0;34m\u001b[0m\u001b[0m\n\u001b[0m",
      "\u001b[0;31mNameError\u001b[0m: name 'df' is not defined"
     ]
    }
   ],
   "source": [
    "del df\n",
    "\n",
    "df.head(5)"
   ]
  },
  {
   "cell_type": "code",
   "execution_count": 19,
   "metadata": {},
   "outputs": [
    {
     "data": {
      "text/html": [
       "<div>\n",
       "<style scoped>\n",
       "    .dataframe tbody tr th:only-of-type {\n",
       "        vertical-align: middle;\n",
       "    }\n",
       "\n",
       "    .dataframe tbody tr th {\n",
       "        vertical-align: top;\n",
       "    }\n",
       "\n",
       "    .dataframe thead th {\n",
       "        text-align: right;\n",
       "    }\n",
       "</style>\n",
       "<table border=\"1\" class=\"dataframe\">\n",
       "  <thead>\n",
       "    <tr style=\"text-align: right;\">\n",
       "      <th></th>\n",
       "      <th>Yay</th>\n",
       "      <th>specific</th>\n",
       "      <th>column</th>\n",
       "      <th>names</th>\n",
       "    </tr>\n",
       "  </thead>\n",
       "  <tbody>\n",
       "    <tr>\n",
       "      <td>0</td>\n",
       "      <td>2.887340</td>\n",
       "      <td>-0.954556</td>\n",
       "      <td>7.963200</td>\n",
       "      <td>-9.559684</td>\n",
       "    </tr>\n",
       "    <tr>\n",
       "      <td>1</td>\n",
       "      <td>-9.627353</td>\n",
       "      <td>3.256477</td>\n",
       "      <td>6.150264</td>\n",
       "      <td>5.092831</td>\n",
       "    </tr>\n",
       "    <tr>\n",
       "      <td>2</td>\n",
       "      <td>-8.676435</td>\n",
       "      <td>1.081872</td>\n",
       "      <td>-0.860754</td>\n",
       "      <td>-6.924826</td>\n",
       "    </tr>\n",
       "    <tr>\n",
       "      <td>3</td>\n",
       "      <td>-6.048806</td>\n",
       "      <td>-3.531348</td>\n",
       "      <td>3.385739</td>\n",
       "      <td>-0.230457</td>\n",
       "    </tr>\n",
       "    <tr>\n",
       "      <td>4</td>\n",
       "      <td>-4.281100</td>\n",
       "      <td>-9.539648</td>\n",
       "      <td>-3.958666</td>\n",
       "      <td>-0.713552</td>\n",
       "    </tr>\n",
       "  </tbody>\n",
       "</table>\n",
       "</div>"
      ],
      "text/plain": [
       "        Yay  specific    column     names\n",
       "0  2.887340 -0.954556  7.963200 -9.559684\n",
       "1 -9.627353  3.256477  6.150264  5.092831\n",
       "2 -8.676435  1.081872 -0.860754 -6.924826\n",
       "3 -6.048806 -3.531348  3.385739 -0.230457\n",
       "4 -4.281100 -9.539648 -3.958666 -0.713552"
      ]
     },
     "execution_count": 19,
     "metadata": {},
     "output_type": "execute_result"
    }
   ],
   "source": [
    "with open('my_dataframe.pickle','rb') as read_file:\n",
    "    new_df = pickle.load(read_file)\n",
    "    \n",
    "new_df.head(5)"
   ]
  },
  {
   "cell_type": "markdown",
   "metadata": {},
   "source": [
    "Pickle is a great tool. One recommended way of using it is to make it an end point of every step in your process. Example:\n",
    "\n",
    "* I got my data! Nice. Pickle it and stop your \"getting the data\" notebook.\n",
    "* Load your data from pickle. Clean it. Save your clean data to a new pickle.\n",
    "* Load your cleaned_data pickle. Do analysis and visualize it.\n",
    "\n",
    "This can provide natural \"pick-up-where-I-left-off-but-before-I-broke-my-data\" points. It's a great way to control the flow of your data.\n",
    "\n",
    "#### Resources\n",
    "\n",
    "https://docs.python.org/3.7/library/pickle.html"
   ]
  },
  {
   "cell_type": "code",
   "execution_count": null,
   "metadata": {},
   "outputs": [],
   "source": []
  }
 ],
 "metadata": {
  "kernelspec": {
   "display_name": "Python 3",
   "language": "python",
   "name": "python3"
  },
  "language_info": {
   "codemirror_mode": {
    "name": "ipython",
    "version": 3
   },
   "file_extension": ".py",
   "mimetype": "text/x-python",
   "name": "python",
   "nbconvert_exporter": "python",
   "pygments_lexer": "ipython3",
   "version": "3.7.3"
  }
 },
 "nbformat": 4,
 "nbformat_minor": 4
}
